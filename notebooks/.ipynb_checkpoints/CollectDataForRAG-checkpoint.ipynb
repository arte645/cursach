{
 "cells": [
  {
   "cell_type": "code",
   "execution_count": 7,
   "metadata": {},
   "outputs": [],
   "source": [
    "sources = ['../preprocessedDocs/habr.txt',\n",
    "          '../preprocessedDocs/skillfactory.txt',\n",
    "          '../preprocessedDocs/vc.txt',\n",
    "          '../preprocessedDocs/research1.txt',\n",
    "          '../preprocessedDocs/research2.txt',\n",
    "          '../preprocessedDocs/research3.txt',\n",
    "          '../preprocessedDocs/quality-lab.txt',\n",
    "          '../preprocessedDocs/habr2.txt',\n",
    "          '../preprocessedDocs/skypro.txt',\n",
    "          '../preprocessedDocs/skypro2.txt',\n",
    "          '../preprocessedDocs/vc2.txt']"
   ]
  },
  {
   "cell_type": "code",
   "execution_count": 8,
   "metadata": {},
   "outputs": [],
   "source": [
    "from langchain_community.document_loaders import TextLoader\n",
    "from langchain.text_splitter import RecursiveCharacterTextSplitter"
   ]
  },
  {
   "cell_type": "code",
   "execution_count": 9,
   "metadata": {},
   "outputs": [],
   "source": [
    "def load_multiple_text_files(file_paths, encoding=\"utf-8\"):\n",
    "    documents = []\n",
    "    \n",
    "    for file_path in file_paths:\n",
    "        try:\n",
    "            loader = TextLoader(file_path, encoding=encoding)\n",
    "            docs = loader.load()\n",
    "            documents.extend(docs)  # Добавляем загруженные документы в общий список\n",
    "        except Exception as e:\n",
    "            print(f\"Ошибка при загрузке файла {file_path}: {e}\")\n",
    "    \n",
    "    return documents"
   ]
  },
  {
   "cell_type": "code",
   "execution_count": 10,
   "metadata": {},
   "outputs": [],
   "source": [
    "docs = load_multiple_text_files(sources)"
   ]
  },
  {
   "cell_type": "code",
   "execution_count": 11,
   "metadata": {},
   "outputs": [
    {
     "data": {
      "text/plain": [
       "11"
      ]
     },
     "execution_count": 11,
     "metadata": {},
     "output_type": "execute_result"
    }
   ],
   "source": [
    "len(docs)"
   ]
  },
  {
   "cell_type": "code",
   "execution_count": 12,
   "metadata": {},
   "outputs": [],
   "source": [
    "text_splitter = RecursiveCharacterTextSplitter(chunk_size=500,\n",
    "                                              chunk_overlap=100)\n",
    "split_docs = text_splitter.split_documents(docs)"
   ]
  },
  {
   "cell_type": "code",
   "execution_count": 13,
   "metadata": {},
   "outputs": [
    {
     "data": {
      "text/plain": [
       "407"
      ]
     },
     "execution_count": 13,
     "metadata": {},
     "output_type": "execute_result"
    }
   ],
   "source": [
    "len(split_docs)"
   ]
  },
  {
   "cell_type": "code",
   "execution_count": 14,
   "metadata": {},
   "outputs": [
    {
     "data": {
      "text/plain": [
       "Document(metadata={'source': '../preprocessedDocs/vc2.txt'}, page_content='Так перемены это же не плохо\\nВыгорание из за коллектива не бывает что бы не повторялось посмотрите какие задачи вы хотите решить работой Например я за деньгами - все Ну и условия быта мне должны бать комфортны Все эти коллективы  ценности и тд - мне без разницы для этого есть другие сферы вот список составьте - с наставлением баллов')"
      ]
     },
     "execution_count": 14,
     "metadata": {},
     "output_type": "execute_result"
    }
   ],
   "source": [
    "split_docs[-1]"
   ]
  },
  {
   "cell_type": "code",
   "execution_count": null,
   "metadata": {},
   "outputs": [],
   "source": []
  }
 ],
 "metadata": {
  "kernelspec": {
   "display_name": "Python 3 (ipykernel)",
   "language": "python",
   "name": "python3"
  },
  "language_info": {
   "codemirror_mode": {
    "name": "ipython",
    "version": 3
   },
   "file_extension": ".py",
   "mimetype": "text/x-python",
   "name": "python",
   "nbconvert_exporter": "python",
   "pygments_lexer": "ipython3",
   "version": "3.9.13"
  }
 },
 "nbformat": 4,
 "nbformat_minor": 4
}
