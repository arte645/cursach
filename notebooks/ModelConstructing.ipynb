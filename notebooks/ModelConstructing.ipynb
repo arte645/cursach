{
 "cells": [
  {
   "cell_type": "code",
   "execution_count": 1,
   "metadata": {},
   "outputs": [],
   "source": [
    "%load_ext autoreload\n",
    "%autoreload 2\n",
    "%reload_ext autoreload"
   ]
  },
  {
   "cell_type": "code",
   "execution_count": 2,
   "metadata": {},
   "outputs": [],
   "source": [
    "from langchain.embeddings import HuggingFaceEmbeddings\n",
    "from langchain.retrievers import BM25Retriever, EnsembleRetriever\n",
    "from langchain.vectorstores.faiss import FAISS\n",
    "from langchain_core.documents import Document\n",
    "from langchain.text_splitter import RecursiveCharacterTextSplitter"
   ]
  },
  {
   "cell_type": "code",
   "execution_count": 3,
   "metadata": {},
   "outputs": [],
   "source": [
    "import os\n",
    "\n",
    "\n",
    "def set_environment_variables(env_path: str = '../.env',):\n",
    "    with open(env_path, 'r') as f:\n",
    "        key, val = f.readline().split()\n",
    "        os.environ[key] = val"
   ]
  },
  {
   "cell_type": "code",
   "execution_count": 4,
   "metadata": {},
   "outputs": [],
   "source": [
    "set_environment_variables()"
   ]
  },
  {
   "cell_type": "code",
   "execution_count": 5,
   "metadata": {},
   "outputs": [
    {
     "name": "stdout",
     "output_type": "stream",
     "text": [
      "None\n"
     ]
    }
   ],
   "source": [
    "import os, sys\n",
    "\n",
    "print(os.environ.get(\"SHIT\"))"
   ]
  },
  {
   "cell_type": "code",
   "execution_count": 6,
   "metadata": {},
   "outputs": [
    {
     "ename": "RuntimeError",
     "evalue": "Error loading ../preprocessedDocs/fixed_skillfactory.txt",
     "output_type": "error",
     "traceback": [
      "\u001b[0;31m---------------------------------------------------------------------------\u001b[0m",
      "\u001b[0;31mLookupError\u001b[0m                               Traceback (most recent call last)",
      "File \u001b[0;32m~/Projects/BurnoutAnalysis/venv/lib64/python3.12/site-packages/langchain_community/document_loaders/text.py:42\u001b[0m, in \u001b[0;36mTextLoader.lazy_load\u001b[0;34m(self)\u001b[0m\n\u001b[1;32m     41\u001b[0m \u001b[38;5;28;01mtry\u001b[39;00m:\n\u001b[0;32m---> 42\u001b[0m     \u001b[38;5;28;01mwith\u001b[39;00m \u001b[38;5;28;43mopen\u001b[39;49m\u001b[43m(\u001b[49m\u001b[38;5;28;43mself\u001b[39;49m\u001b[38;5;241;43m.\u001b[39;49m\u001b[43mfile_path\u001b[49m\u001b[43m,\u001b[49m\u001b[43m \u001b[49m\u001b[43mencoding\u001b[49m\u001b[38;5;241;43m=\u001b[39;49m\u001b[38;5;28;43mself\u001b[39;49m\u001b[38;5;241;43m.\u001b[39;49m\u001b[43mencoding\u001b[49m\u001b[43m)\u001b[49m \u001b[38;5;28;01mas\u001b[39;00m f:\n\u001b[1;32m     43\u001b[0m         text \u001b[38;5;241m=\u001b[39m f\u001b[38;5;241m.\u001b[39mread()\n",
      "\u001b[0;31mLookupError\u001b[0m: unknown encoding: ../burnout.txt",
      "\nThe above exception was the direct cause of the following exception:\n",
      "\u001b[0;31mRuntimeError\u001b[0m                              Traceback (most recent call last)",
      "Cell \u001b[0;32mIn[6], line 8\u001b[0m\n\u001b[1;32m      6\u001b[0m loader \u001b[38;5;241m=\u001b[39m TextLoader(\u001b[38;5;124m'\u001b[39m\u001b[38;5;124m../preprocessedDocs/fixed_skillfactory.txt\u001b[39m\u001b[38;5;124m'\u001b[39m, \u001b[38;5;124m\"\u001b[39m\u001b[38;5;124m../burnout.txt\u001b[39m\u001b[38;5;124m\"\u001b[39m)\n\u001b[1;32m      7\u001b[0m \u001b[38;5;66;03m# loader = TextLoader('../burnout.txt')\u001b[39;00m\n\u001b[0;32m----> 8\u001b[0m documents \u001b[38;5;241m=\u001b[39m \u001b[43mloader\u001b[49m\u001b[38;5;241;43m.\u001b[39;49m\u001b[43mload\u001b[49m\u001b[43m(\u001b[49m\u001b[43m)\u001b[49m\n\u001b[1;32m     10\u001b[0m text_splitter \u001b[38;5;241m=\u001b[39m RecursiveCharacterTextSplitter(chunk_size\u001b[38;5;241m=\u001b[39m\u001b[38;5;241m500\u001b[39m, chunk_overlap\u001b[38;5;241m=\u001b[39m\u001b[38;5;241m100\u001b[39m)\n\u001b[1;32m     11\u001b[0m docs \u001b[38;5;241m=\u001b[39m text_splitter\u001b[38;5;241m.\u001b[39msplit_documents(documents)\n",
      "File \u001b[0;32m~/Projects/BurnoutAnalysis/venv/lib64/python3.12/site-packages/langchain_core/document_loaders/base.py:31\u001b[0m, in \u001b[0;36mBaseLoader.load\u001b[0;34m(self)\u001b[0m\n\u001b[1;32m     29\u001b[0m \u001b[38;5;28;01mdef\u001b[39;00m \u001b[38;5;21mload\u001b[39m(\u001b[38;5;28mself\u001b[39m) \u001b[38;5;241m-\u001b[39m\u001b[38;5;241m>\u001b[39m \u001b[38;5;28mlist\u001b[39m[Document]:\n\u001b[1;32m     30\u001b[0m \u001b[38;5;250m    \u001b[39m\u001b[38;5;124;03m\"\"\"Load data into Document objects.\"\"\"\u001b[39;00m\n\u001b[0;32m---> 31\u001b[0m     \u001b[38;5;28;01mreturn\u001b[39;00m \u001b[38;5;28;43mlist\u001b[39;49m\u001b[43m(\u001b[49m\u001b[38;5;28;43mself\u001b[39;49m\u001b[38;5;241;43m.\u001b[39;49m\u001b[43mlazy_load\u001b[49m\u001b[43m(\u001b[49m\u001b[43m)\u001b[49m\u001b[43m)\u001b[49m\n",
      "File \u001b[0;32m~/Projects/BurnoutAnalysis/venv/lib64/python3.12/site-packages/langchain_community/document_loaders/text.py:58\u001b[0m, in \u001b[0;36mTextLoader.lazy_load\u001b[0;34m(self)\u001b[0m\n\u001b[1;32m     56\u001b[0m         \u001b[38;5;28;01mraise\u001b[39;00m \u001b[38;5;167;01mRuntimeError\u001b[39;00m(\u001b[38;5;124mf\u001b[39m\u001b[38;5;124m\"\u001b[39m\u001b[38;5;124mError loading \u001b[39m\u001b[38;5;132;01m{\u001b[39;00m\u001b[38;5;28mself\u001b[39m\u001b[38;5;241m.\u001b[39mfile_path\u001b[38;5;132;01m}\u001b[39;00m\u001b[38;5;124m\"\u001b[39m) \u001b[38;5;28;01mfrom\u001b[39;00m \u001b[38;5;21;01me\u001b[39;00m\n\u001b[1;32m     57\u001b[0m \u001b[38;5;28;01mexcept\u001b[39;00m \u001b[38;5;167;01mException\u001b[39;00m \u001b[38;5;28;01mas\u001b[39;00m e:\n\u001b[0;32m---> 58\u001b[0m     \u001b[38;5;28;01mraise\u001b[39;00m \u001b[38;5;167;01mRuntimeError\u001b[39;00m(\u001b[38;5;124mf\u001b[39m\u001b[38;5;124m\"\u001b[39m\u001b[38;5;124mError loading \u001b[39m\u001b[38;5;132;01m{\u001b[39;00m\u001b[38;5;28mself\u001b[39m\u001b[38;5;241m.\u001b[39mfile_path\u001b[38;5;132;01m}\u001b[39;00m\u001b[38;5;124m\"\u001b[39m) \u001b[38;5;28;01mfrom\u001b[39;00m \u001b[38;5;21;01me\u001b[39;00m\n\u001b[1;32m     60\u001b[0m metadata \u001b[38;5;241m=\u001b[39m {\u001b[38;5;124m\"\u001b[39m\u001b[38;5;124msource\u001b[39m\u001b[38;5;124m\"\u001b[39m: \u001b[38;5;28mstr\u001b[39m(\u001b[38;5;28mself\u001b[39m\u001b[38;5;241m.\u001b[39mfile_path)}\n\u001b[1;32m     61\u001b[0m \u001b[38;5;28;01myield\u001b[39;00m Document(page_content\u001b[38;5;241m=\u001b[39mtext, metadata\u001b[38;5;241m=\u001b[39mmetadata)\n",
      "\u001b[0;31mRuntimeError\u001b[0m: Error loading ../preprocessedDocs/fixed_skillfactory.txt"
     ]
    }
   ],
   "source": [
    "from langchain.vectorstores import Chroma\n",
    "from langchain.embeddings.sentence_transformer import SentenceTransformerEmbeddings\n",
    "from langchain.text_splitter import CharacterTextSplitter \n",
    "from langchain.document_loaders import TextLoader\n",
    "\n",
    "loader = TextLoader(['../preprocessedDocs/fixed_skillfactory.txt', \"../burnout.txt\"])\n",
    "# loader = TextLoader('../burnout.txt')\n",
    "documents = loader.load()\n",
    "\n",
    "text_splitter = RecursiveCharacterTextSplitter(chunk_size=500, chunk_overlap=100)\n",
    "docs = text_splitter.split_documents(documents)\n",
    "\n",
    "embedding_function = SentenceTransformerEmbeddings(model_name=\"all-MiniLM-L6-v2\")\n",
    "\n",
    "db = Chroma.from_documents(docs, embedding_function)\n",
    "db"
   ]
  },
  {
   "cell_type": "code",
   "execution_count": null,
   "metadata": {},
   "outputs": [
    {
     "data": {
      "text/plain": [
       "'и хроническую усталость Если вы вовремя их обнаружите сможете переключиться взять отдых провести время с друзьями сменить локацию'"
      ]
     },
     "execution_count": 7,
     "metadata": {},
     "output_type": "execute_result"
    }
   ],
   "source": [
    "retriever = db.as_retriever()\n",
    "retrieved_docs = retriever.invoke(\"Я хочу питсы\")\n",
    "\n",
    "retrieved_docs[0].page_content"
   ]
  },
  {
   "cell_type": "code",
   "execution_count": null,
   "metadata": {},
   "outputs": [],
   "source": [
    "from langchain.chains.combine_documents import create_stuff_documents_chain\n",
    "from langchain_core.prompts import ChatPromptTemplate\n",
    "from langchain.chat_models.gigachat import GigaChat\n",
    "from langchain.chains import create_retrieval_chain"
   ]
  },
  {
   "cell_type": "code",
   "execution_count": null,
   "metadata": {},
   "outputs": [],
   "source": [
    "llm = GigaChat(\n",
    "    credentials=os.environ['GIGACHAT_API_KEY'],\n",
    "    model=\"GigaChat\",\n",
    "    verify_ssl_certs=False,\n",
    "    profanity_check=False,\n",
    ")\n",
    "\n",
    "prompt = ChatPromptTemplate.from_template(''' Ты - психолог помогающий бороться с выгоранием \\\n",
    "                                          Ответь на вопрос пользователя. \\\n",
    "Используй при этом информацию из контекста. Если в контексте нет \\\n",
    "информации для ответа, попроси пользователя рассказать про свои проблемы.\n",
    "Контекст: {context}\n",
    "Вопрос: {input}\n",
    "Ответ:'''\n",
    ")\n",
    "# prompt = ChatPromptTemplate.from_template('''Ну такое\n",
    "# Контекст: {context}\n",
    "# Вопрос: {input} \n",
    "# Ответ:''')"
   ]
  },
  {
   "cell_type": "code",
   "execution_count": null,
   "metadata": {},
   "outputs": [],
   "source": [
    "document_chain = create_stuff_documents_chain(\n",
    "    llm=llm,\n",
    "    prompt=prompt,\n",
    ")"
   ]
  },
  {
   "cell_type": "code",
   "execution_count": null,
   "metadata": {},
   "outputs": [],
   "source": [
    "retrieval_chain = create_retrieval_chain(retriever, document_chain)"
   ]
  },
  {
   "cell_type": "code",
   "execution_count": null,
   "metadata": {},
   "outputs": [
    {
     "data": {
      "text/plain": [
       "{'input': 'Можешь рассказать про выгорание в IT-сфере?',\n",
       " 'context': [Document(metadata={'source': '../preprocessedDocs/fixed_skillfactory.txt'}, page_content='совсем другие подходы и языки Так я стал комфортно чувствовать себя как профессионал что позитивно сказалось на основной работе'),\n",
       "  Document(metadata={'source': '../preprocessedDocs/fixed_skillfactory.txt'}, page_content='Профессиональное выгорание напрямую зависит от двух факторов  самого человека и проекта над которым он работает Думаю лучше разобрать второй фактор'),\n",
       "  Document(metadata={'source': '../preprocessedDocs/fixed_skillfactory.txt'}, page_content='3 Часто профессиональное выгорание следует за эмоциональным Если у человека много личных проблем и переживаний это сказывается на работе Сотрудник чувствует себя подавленным теряет силы и желание профессионально развиваться'),\n",
       "  Document(metadata={'source': '../preprocessedDocs/fixed_skillfactory.txt'}, page_content='и хроническую усталость Если вы вовремя их обнаружите сможете переключиться взять отдых провести время с друзьями сменить локацию')],\n",
       " 'answer': 'Выгорание в IT-сфере часто связано с высокой нагрузкой, стрессом от дедлайнов, давлением со стороны коллег и руководства, а также с необходимостью постоянного обучения и адаптации к новым технологиям. Вот несколько ключевых моментов, которые могут способствовать выгоранию в IT-индустрии:\\n\\n1. **Высокие требования к производительности**: В IT-секторе часто ожидается, что сотрудники будут работать сверхурочно и быстро решать сложные задачи. Это может привести к физическому и эмоциональному истощению.\\n\\n2. **Недостаток признания и поддержки**: Нехватка обратной связи и признания достижений может привести к чувству недооцененности и разочарования.\\n\\n3. **Стресс от постоянных изменений**: Технологии быстро развиваются, и сотрудникам приходится постоянно учиться и адаптироваться к новым инструментам и методам работы. Это требует значительных усилий и может вызывать стресс.\\n\\n4. **Личные проблемы**: Как и в любой другой сфере, личные проблемы могут негативно влиять на работу. Например, проблемы в семье или финансовые трудности могут снизить продуктивность и мотивацию.\\n\\n5. **Ограниченные возможности для карьерного роста**: Если сотрудник не видит перспектив для своего профессионального развития, это может привести к ощущению тупика и выгорания.\\n\\nЧтобы избежать выгорания в IT-среде, важно уделять внимание своему здоровью и балансу между работой и личной жизнью, регулярно брать отпуск и заниматься хобби вне работы. Также полезно развивать навыки управления временем и стрессоустойчивости.'}"
      ]
     },
     "execution_count": 12,
     "metadata": {},
     "output_type": "execute_result"
    }
   ],
   "source": [
    "retrieval_chain.invoke({'input': \"Можешь рассказать про выгорание в IT-сфере?\"})"
   ]
  },
  {
   "cell_type": "code",
   "execution_count": null,
   "metadata": {},
   "outputs": [
    {
     "data": {
      "text/plain": [
       "442"
      ]
     },
     "execution_count": 13,
     "metadata": {},
     "output_type": "execute_result"
    }
   ],
   "source": [
    "len(docs[0].page_content)"
   ]
  },
  {
   "cell_type": "code",
   "execution_count": null,
   "metadata": {},
   "outputs": [
    {
     "data": {
      "text/plain": [
       "1"
      ]
     },
     "execution_count": 14,
     "metadata": {},
     "output_type": "execute_result"
    }
   ],
   "source": [
    "len(documents)"
   ]
  },
  {
   "cell_type": "code",
   "execution_count": null,
   "metadata": {},
   "outputs": [
    {
     "data": {
      "text/plain": [
       "[Document(metadata={'source': '../preprocessedDocs/fixed_skillfactory.txt'}, page_content='совсем другие подходы и языки Так я стал комфортно чувствовать себя как профессионал что позитивно сказалось на основной работе'),\n",
       " Document(metadata={'source': '../preprocessedDocs/fixed_skillfactory.txt'}, page_content='Профессиональное выгорание напрямую зависит от двух факторов  самого человека и проекта над которым он работает Думаю лучше разобрать второй фактор'),\n",
       " Document(metadata={'source': '../preprocessedDocs/fixed_skillfactory.txt'}, page_content='3 Часто профессиональное выгорание следует за эмоциональным Если у человека много личных проблем и переживаний это сказывается на работе Сотрудник чувствует себя подавленным теряет силы и желание профессионально развиваться'),\n",
       " Document(metadata={'source': '../preprocessedDocs/fixed_skillfactory.txt'}, page_content='и хроническую усталость Если вы вовремя их обнаружите сможете переключиться взять отдых провести время с друзьями сменить локацию')]"
      ]
     },
     "execution_count": 15,
     "metadata": {},
     "output_type": "execute_result"
    }
   ],
   "source": [
    "retriever.invoke(\"Можешь рассказать про выгорание в IT-сфере?\")"
   ]
  },
  {
   "cell_type": "markdown",
   "metadata": {},
   "source": [
    "bm25_chain"
   ]
  },
  {
   "cell_type": "markdown",
   "metadata": {},
   "source": []
  },
  {
   "cell_type": "code",
   "execution_count": null,
   "metadata": {},
   "outputs": [],
   "source": [
    "import string\n",
    "\n",
    "\n",
    "def tokenize(s):\n",
    "    return s.lower().translate(str.maketrans(\"\", \"\", string.punctuation)).split(\" \")\n"
   ]
  },
  {
   "cell_type": "code",
   "execution_count": null,
   "metadata": {},
   "outputs": [],
   "source": [
    "from langchain.chains import RetrievalQA\n",
    "\n",
    "embedding_retriever = retriever\n",
    "bm25_retriever = BM25Retriever.from_documents(\n",
    "    documents=docs,\n",
    "    preprocess_func=tokenize,\n",
    "    k=3,\n",
    ")\n",
    "\n",
    "bm25_chain = create_retrieval_chain(bm25_retriever, document_chain)"
   ]
  },
  {
   "cell_type": "code",
   "execution_count": null,
   "metadata": {},
   "outputs": [
    {
     "data": {
      "text/plain": [
       "{'input': 'Можешь рассказать про выгорание в IT-сфере',\n",
       " 'context': [Document(metadata={'source': '../preprocessedDocs/fixed_skillfactory.txt'}, page_content='Текущая ситуация в отрасли в основном влияет не на профессиональное выгорание а на сокращение количества IT-специалистов и рынка IT в целом в России В большей степени это можно назвать кризисными стресс-факторами Специалисты понимают что не смогут реализовать свои профессиональные ожидания и возможности'),\n",
       "  Document(metadata={'source': '../preprocessedDocs/fixed_skillfactory.txt'}, page_content='Выгорание встречается и у аналитиков которые работают на проекте в большой команде и в основном занимаются подготовкой требований Зачастую их вклад в общей структуре бизнеса невелик а влияние на общий результат не так заметен Это видно в компаниях с высоким уровнем бюрократизма например в госсекторе или в финтехе Там специалисты часто не могут реализовать свои профессиональные ожидания показать творческие возможности и проявить инициативу'),\n",
       "  Document(metadata={'source': '../preprocessedDocs/fixed_skillfactory.txt'}, page_content='Выгорание IT-специалистов высокого уровня происходит реже потому что горизонты способностей навыков и компетенций шире а вовлеченность в бизнес компании  больше Они сами мотивируют себя меняя различные виды работы Например fullstack-разработчики могут заниматься разработкой backend- и frontend-приложений Многие тестировщики умеют совмещать свои задачи с задачами бизнес-аналитиков Такой подход называется парттайм или слэш-карьера')],\n",
       " 'answer': 'Выгорание в IT-сфере может возникать по разным причинам, включая высокий уровень стресса, давление сроков выполнения задач, недостаток признания и чувство бесполезности своей работы. Вот несколько примеров:\\n\\n1. **Высокий уровень стресса**: Работа в IT-индустрии часто связана с высокими требованиями к производительности и скорости выполнения задач. Это может привести к хроническому стрессу и эмоциональному истощению.\\n\\n2. **Давление сроков**: Дедлайны и жесткие сроки выполнения проектов могут вызывать чувство постоянной спешки и напряжения. Это особенно актуально для разработчиков, тестировщиков и других специалистов, работающих над проектами с короткими циклами разработки.\\n\\n3. **Недостаток признания**: В некоторых организациях вклад IT-специалистов может быть недооценен или не замечен руководством. Это приводит к чувству недооценки своих усилий и снижению мотивации.\\n\\n4. **Чувство бесполезности**: Некоторые проекты могут казаться бессмысленными или не иметь значимого влияния на бизнес. Это вызывает чувство беспомощности и отсутствие мотивации продолжать работу над такими проектами.\\n\\n5. **Бюрократия и высокая степень контроля**: Работая в крупных корпорациях или государственных учреждениях, IT-специалисты могут сталкиваться с высокой степенью бюрократии и контроля. Это ограничивает их свободу и возможность проявлять инициативу, что также может привести к выгоранию.\\n\\n6. **Специфика работы**: Разработка программного обеспечения требует высокой концентрации и внимания к деталям. Постоянная сосредоточенность на задачах может привести к умственному и эмоциональному перенапряжению.\\n\\nДля борьбы с выгоранием в IT-сфере важно создавать поддерживающую рабочую среду, где сотрудники чувствуют признание своих достижений и имеют возможность развиваться профессионально. Также полезно внедрять практики управления стрессом, такие как медитация, физическая активность и регулярный отдых.'}"
      ]
     },
     "execution_count": 18,
     "metadata": {},
     "output_type": "execute_result"
    }
   ],
   "source": [
    "bm25_chain.invoke({'input': \"Можешь рассказать про выгорание в IT-сфере\"})"
   ]
  }
 ],
 "metadata": {
  "kernelspec": {
   "display_name": "venv",
   "language": "python",
   "name": "python3"
  },
  "language_info": {
   "codemirror_mode": {
    "name": "ipython",
    "version": 3
   },
   "file_extension": ".py",
   "mimetype": "text/x-python",
   "name": "python",
   "nbconvert_exporter": "python",
   "pygments_lexer": "ipython3",
   "version": "3.12.4"
  }
 },
 "nbformat": 4,
 "nbformat_minor": 2
}
