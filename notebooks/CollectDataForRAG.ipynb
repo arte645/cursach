{
 "cells": [
  {
   "cell_type": "code",
   "execution_count": 35,
   "metadata": {},
   "outputs": [],
   "source": [
    "sources = ['../preprocessedDocs/habr.txt',\n",
    "          '../preprocessedDocs/skillfactory.txt',\n",
    "          '../preprocessedDocs/vc.txt',\n",
    "          '../preprocessedDocs/research1.txt',\n",
    "          '../preprocessedDocs/research2.txt',\n",
    "          '../preprocessedDocs/research3.txt']"
   ]
  },
  {
   "cell_type": "code",
   "execution_count": 36,
   "metadata": {},
   "outputs": [],
   "source": [
    "from langchain_community.document_loaders import TextLoader\n",
    "from langchain.text_splitter import RecursiveCharacterTextSplitter"
   ]
  },
  {
   "cell_type": "code",
   "execution_count": 38,
   "metadata": {},
   "outputs": [],
   "source": [
    "def load_multiple_text_files(file_paths, encoding=\"utf-8\"):\n",
    "    documents = []\n",
    "    \n",
    "    for file_path in file_paths:\n",
    "        try:\n",
    "            loader = TextLoader(file_path, encoding=encoding)\n",
    "            docs = loader.load()\n",
    "            documents.extend(docs)  # Добавляем загруженные документы в общий список\n",
    "        except Exception as e:\n",
    "            print(f\"Ошибка при загрузке файла {file_path}: {e}\")\n",
    "    \n",
    "    return documents"
   ]
  },
  {
   "cell_type": "code",
   "execution_count": 39,
   "metadata": {},
   "outputs": [],
   "source": [
    "docs = load_multiple_text_files(sources)"
   ]
  },
  {
   "cell_type": "code",
   "execution_count": 40,
   "metadata": {},
   "outputs": [
    {
     "data": {
      "text/plain": [
       "6"
      ]
     },
     "execution_count": 40,
     "metadata": {},
     "output_type": "execute_result"
    }
   ],
   "source": [
    "len(docs)"
   ]
  },
  {
   "cell_type": "code",
   "execution_count": 41,
   "metadata": {},
   "outputs": [],
   "source": [
    "text_splitter = RecursiveCharacterTextSplitter(chunk_size=500,\n",
    "                                              chunk_overlap=100)\n",
    "split_docs = text_splitter.split_documents(docs)"
   ]
  },
  {
   "cell_type": "code",
   "execution_count": 42,
   "metadata": {},
   "outputs": [
    {
     "data": {
      "text/plain": [
       "316"
      ]
     },
     "execution_count": 42,
     "metadata": {},
     "output_type": "execute_result"
    }
   ],
   "source": [
    "len(split_docs)"
   ]
  },
  {
   "cell_type": "code",
   "execution_count": 43,
   "metadata": {},
   "outputs": [
    {
     "data": {
      "text/plain": [
       "Document(metadata={'source': '../preprocessedDocs/research3.txt'}, page_content='Профилактика на индивидуальном уровне предотвращения выгорания может включать следующие аспекты профориентацию поскольку довольно много молодых людей выбирает ИTспециальности исходя из предполагаемых финансовых перспектив а не из своих склонностей обучение цифровой гигиене взаимодействия субъекта труда с цифровой средой разработку психодиагностических методик позволяющих оценивать специфические особенности и типологию выгорания специалистов ИTсферы')"
      ]
     },
     "execution_count": 43,
     "metadata": {},
     "output_type": "execute_result"
    }
   ],
   "source": [
    "split_docs[-1]"
   ]
  }
 ],
 "metadata": {
  "kernelspec": {
   "display_name": "Python 3",
   "language": "python",
   "name": "python3"
  },
  "language_info": {
   "codemirror_mode": {
    "name": "ipython",
    "version": 3
   },
   "file_extension": ".py",
   "mimetype": "text/x-python",
   "name": "python",
   "nbconvert_exporter": "python",
   "pygments_lexer": "ipython3",
   "version": "3.11.9"
  }
 },
 "nbformat": 4,
 "nbformat_minor": 2
}
